{
 "cells": [
  {
   "cell_type": "markdown",
   "metadata": {},
   "source": [
    "#### An update for the Explore Secondary Data project\n",
    "Here I use decode for json file"
   ]
  },
  {
   "cell_type": "code",
   "execution_count": 1,
   "metadata": {},
   "outputs": [],
   "source": [
    "import demjson\n",
    "from demjson import decode\n",
    "import json\n",
    "import re\n",
    "import numpy as np\n",
    "import pandas as pd\n",
    "import gzip"
   ]
  },
  {
   "cell_type": "code",
   "execution_count": 2,
   "metadata": {},
   "outputs": [],
   "source": [
    "def  filter_products_raw(key_pharse):\n",
    "    f = open(\"D:/DUKE/01 COURSES/08 Mkt Intelligence/products.json\")\n",
    "    list1=[]\n",
    "    for i in f:\n",
    "        if key_pharse in i:\n",
    "            list1.append(i)\n",
    "    return(list1)"
   ]
  },
  {
   "cell_type": "code",
   "execution_count": 3,
   "metadata": {},
   "outputs": [],
   "source": [
    "match=filter_products_raw('smart pen')"
   ]
  },
  {
   "cell_type": "code",
   "execution_count": 45,
   "metadata": {
    "scrolled": true
   },
   "outputs": [
    {
     "name": "stdout",
     "output_type": "stream",
     "text": [
      "['{\\'asin\\': \\'B00AO85G8E\\', \\'categories\\': [[\\'Electronics\\', \\'Computers & Accessories\\', \\'Cables & Accessories\\', \\'Input Devices\\', \\'Graphics Tablet Styluses\\']], \\'description\\': \"Two standard tips for your Pogo Connect Pogo Connect is a full-featured smart pen for iPad. It enables creative, expressive pen input through pressure-sensitive drawing and button control. Pogo Connect can interact with your applications to control line width and opacity of a drawn line. The drawing color can be displayed on the multicolor led button. With it\\'s integrated palm rejection capability, Pogo Connect also allows you to comfortably rest your hand on the display as you write. This is a big win for usability when taking notes. Exotic pressure technology Under its tame exterior, Pogo Connect sports a wild new patent pending technology we call a Crescendo Sensor. So where did it come from? It began as a research project here at Ten One in early 2011. Later in 2011, we realized we had accomplished something rather good. Here\\'s what our Crescendo Sensor can do: It\\'s amazingly sensitive, with 0 grams of activation force. It works at all angles. It requires no calibration. It provides hundreds of levels of pressure. Best of all? No moving parts, making it incredibly reliable. Urn it on, leave it onYou should never have to think about batteries or charging. Pogo Connect makes it easy. We\\'ve used new Bluetooth Smart technology to extend the battery to extraordinary levels. How many hours of continuous use? Perhaps you mean how many months? All from a standard AAA battery. Turn it on. Leave it on. Draw whenever you\\'d like. Getting warmer Pogo Connect transmits a signal that allows you to track down its location. We like to think this makes Pogo Connect the first pen that\\'s impossible to lose. You can use an iPhone or iPad to display your estimated distance to the pen. The distance information is displayed in a radar-style view, transforming finding a lost pen into a fun game. Sudden attraction Pogo Connect tips are attached magnetically. Putting a new one in is a snap.\", \\'title\\': \\'Ten One Design Pogo Connect R3 Tip Pack (T1-PCTP-102)\\', \\'price\\': 9.68, \\'imUrl\\': \\'http://ecx.images-amazon.com/images/I/31X3wV1bIAL._SY300_.jpg\\', \\'brand\\': \\'Ten One Design\\', \\'related\\': {\\'also_bought\\': [\\'B009K448L4\\', \\'B00FEG7ONQ\\', \\'B006N9QS0S\\', \\'B00FEG7O8G\\', \\'B005IS4SG6\\', \\'B00G28RZGQ\\', \\'B00JP12170\\', \\'B00AO1L1RG\\', \\'B009NRPK2E\\', \\'B005QEP104\\', \\'B00ER52ES0\\', \\'B006H97AF6\\', \\'B00FC7DOCW\\', \\'B007Z0HXU8\\', \\'B008UGQ064\\', \\'B00DQEB1V4\\', \\'1454707607\\', \\'B004VM0SE6\\', \\'B002BH4QAA\\', \\'B00931K1QK\\', \\'B00931LZCE\\', \\'B0081O0U2K\\'], \\'bought_together\\': [\\'B009K448L4\\', \\'B00FEG7ONQ\\'], \\'buy_after_viewing\\': [\\'B009K448L4\\', \\'B005IS4SG6\\', \\'B006N9QS0S\\', \\'B005QEP104\\']}}\\n', '{\\'asin\\': \\'B00B7Q28YC\\', \\'description\\': \"Pogo Connect clip accessory for folio-style and smart cases. Pogo Connect is a full-featured smart pen for iPad. It enables creative, expressive pen input through pressure-sensitive drawing and button control. Pogo Connect can interact with your applications to control line width and opacity of a drawn line. The drawing color can be displayed on the multicolor led button. With it\\'s integrated palm rejection capability, Pogo Connect also allows you to comfortably rest your hand on the display as you write. This is a big win for usability when taking notes.\", \\'title\\': \\'Ten One Design Pogo Connect Smart Clip (T1-PCSC-100)\\', \\'price\\': 74.99, \\'imUrl\\': \\'http://ecx.images-amazon.com/images/I/418OobmB5gL._SY300_.jpg\\', \\'related\\': {\\'also_bought\\': [\\'B009K448L4\\', \\'B006N9QS0S\\', \\'B00FEG7ONQ\\', \\'B00AO85G8E\\', \\'B00FEG7O8G\\', \\'B005IS4SG6\\', \\'B00G28RZGQ\\', \\'1454707607\\', \\'B00AO1L1RG\\', \\'B00DQEB1V4\\', \\'B005QEP104\\', \\'B00ER52ES0\\', \\'B00AO1MH60\\', \\'B00FC7DOCW\\', \\'B007Z0HXU8\\', \\'B008UGQ064\\', \\'B00CIZX62E\\', \\'B00DO75FM4\\', \\'0240825020\\', \\'B009NRPK2E\\', \\'B001QHY2V4\\', \\'B00CLH3F16\\', \\'B00931K1QK\\', \\'B006ZIIOKO\\', \\'B0093TMDVI\\', \\'0823099369\\', \\'B002RNRYN4\\', \\'B00174N3R0\\', \\'B00DMF7MDI\\', \\'B00726Y1MI\\', \\'B006H97AF6\\', \\'B004VM0SE6\\', \\'B00GMIVHQU\\', \\'B001GB3ZPE\\'], \\'buy_after_viewing\\': [\\'B00DQEB1V4\\', \\'B009K448L4\\', \\'B00AO1L1RG\\', \\'B005IS4SG6\\']}, \\'categories\\': [[\\'Electronics\\', \\'Portable Audio & Video\\', \\'MP3 Players & Accessories\\', \\'MP3 Player Accessories\\', \\'Cases\\']]}\\n', '{\\'asin\\': \\'B00CX49V38\\', \\'description\\': \"Attach the e-pens base unit to the 30 pin dock port (does not work with the newer lightning port) then write and draw freely on the iPad\\'s screen. Then convert your handwritten notes to digital text on your iPad.\\\\n\\\\nThis digital pen does not work on newer iPad\\'s with lightning ports.\", \\'title\\': \\'e-pens mobile notes for iPad | EPN007-EN | smart pen - digital pen - smartpen\\', \\'price\\': 111.0, \\'imUrl\\': \\'http://ecx.images-amazon.com/images/I/41uBr2aT3iL._SY300_.jpg\\', \\'related\\': {\\'also_viewed\\': [\\'B00524DLZ0\\', \\'B00AO1L1RG\\', \\'B00FONJDZ6\\', \\'B009PK2T00\\', \\'B00DQEB1V4\\', \\'B00931K1QK\\', \\'B00FG38L16\\', \\'B009FU2AW2\\', \\'B009FU2AYU\\', \\'B00KFBWJSU\\', \\'B00CX49VQU\\', \\'B000LD25MC\\', \\'B008KML220\\', \\'B00200JXGA\\', \\'B001AAN4PW\\', \\'B004QOERI2\\', \\'B0000AC88K\\', \\'B00CA65AR0\\', \\'B006WAPM78\\', \\'B00HZQLMCM\\', \\'B00931DHKM\\', \\'B00931KY8U\\', \\'B0057FWWZ4\\', \\'B00FU5MZI0\\', \\'B003JZNZR8\\', \\'B002ZE4TDI\\', \\'B00CA67PVO\\', \\'B0064REJ3C\\', \\'B00AFPR68E\\', \\'B00EN27U9U\\']}, \\'categories\\': [[\\'Electronics\\', \\'Computers & Accessories\\', \\'Cables & Accessories\\', \\'Input Devices\\', \\'Digital Pens\\']]}\\n', '{\\'asin\\': \\'B00G28RZGQ\\', \\'categories\\': [[\\'Electronics\\', \\'Computers & Accessories\\', \\'Cables & Accessories\\', \\'Input Devices\\', \\'Graphics Tablet Styluses\\']], \\'description\\': \"The R2 tip provides good pressure sensitivity with improved precision. Pogo Connect Pogo Connect is a full-featured smart pen for iPad. It enables creative, expressive pen input through pressure-sensitive drawing and button control. Pogo Connect can interact with your applications to control line width and opacity of a drawn line. The drawing color can be displayed on the multicolor led button. With it\\'s integrated palm rejection capability, Pogo Connect also allows you to comfortably rest your hand on the display as you write. This is a big win for usability when taking notes. Exotic pressure technology Under its tame exterior, Pogo Connect sports a wild new patent pending technology we call a Crescendo Sensor. So where did it come from? It began as a research project here at Ten One in early 2011. Later in 2011, we realized we had accomplished something rather good. Here\\'s what our Crescendo Sensor can do: It\\'s amazingly sensitive, with 0 grams of activation force. It works at all angles. It requires no calibration. It provides hundreds of levels of pressure. Best of all? No moving parts, making it incredibly reliable. Turn it on, leave it on You should never have to think about batteries or charging. Pogo Connect makes it easy. We\\'ve used new Bluetooth Smart technology to extend the battery to extraordinary levels. How many hours of continuous use? Perhaps you mean how many months? All from a standard AAA battery. Turn it on. Leave it on. Draw whenever you\\'d like. Getting warmer Pogo Connect transmits a signal that allows you to track down its location. We like to think this makes Pogo Connect the first pen that\\'s impossible to lose. You can use an iPhone or iPad to display your estimated distance to the pen. The distance information is displayed in a radar-style view, transforming finding a lost pen into a fun game. Sudden attraction Pogo Connect tips are attached magnetically. Putting a new one in is a snap.\", \\'title\\': \\'Ten One Design Pogo Connect R2 Tip Pack for iPad/iPhone (T1-PCR2-100)\\', \\'price\\': 19.99, \\'imUrl\\': \\'http://ecx.images-amazon.com/images/I/31UeZKI9W4L._SY300_.jpg\\', \\'brand\\': \\'Ten One Design\\', \\'related\\': {\\'also_bought\\': [\\'B009K448L4\\', \\'B00FEG7ONQ\\', \\'B00FEG7O8G\\', \\'B00ER52ES0\\', \\'B00AO85G8E\\', \\'B00FC7DOCW\\', \\'B00DQEB1V4\\', \\'1454707607\\', \\'B00AO1L1RG\\', \\'B006N9QS0S\\', \\'B001GB3ZPE\\', \\'B005IS4SG6\\'], \\'bought_together\\': [\\'B009K448L4\\', \\'B00FEG7ONQ\\'], \\'buy_after_viewing\\': [\\'B009K448L4\\', \\'B00FEG7ONQ\\', \\'B00DQEB1V4\\', \\'B00ER52ES0\\']}}\\n']\n"
     ]
    }
   ],
   "source": [
    "print(match)"
   ]
  },
  {
   "cell_type": "code",
   "execution_count": 4,
   "metadata": {},
   "outputs": [],
   "source": [
    "def filter_products_df(inputlist):\n",
    "    products = pd.DataFrame({\"product.id\": [], \"price\": []})\n",
    "    for line in inputlist:  \n",
    "        product = decode(line.strip())\n",
    "        d = pd.DataFrame({\"product.id\": [product.get('asin')],\"price\": [product.get('price')]})\n",
    "        products= products.append(d, ignore_index=True)\n",
    "    return(products)"
   ]
  },
  {
   "cell_type": "code",
   "execution_count": 47,
   "metadata": {},
   "outputs": [
    {
     "data": {
      "text/html": [
       "<div>\n",
       "<style scoped>\n",
       "    .dataframe tbody tr th:only-of-type {\n",
       "        vertical-align: middle;\n",
       "    }\n",
       "\n",
       "    .dataframe tbody tr th {\n",
       "        vertical-align: top;\n",
       "    }\n",
       "\n",
       "    .dataframe thead th {\n",
       "        text-align: right;\n",
       "    }\n",
       "</style>\n",
       "<table border=\"1\" class=\"dataframe\">\n",
       "  <thead>\n",
       "    <tr style=\"text-align: right;\">\n",
       "      <th></th>\n",
       "      <th>product.id</th>\n",
       "      <th>price</th>\n",
       "    </tr>\n",
       "  </thead>\n",
       "  <tbody>\n",
       "    <tr>\n",
       "      <th>0</th>\n",
       "      <td>B00AO85G8E</td>\n",
       "      <td>9.68</td>\n",
       "    </tr>\n",
       "    <tr>\n",
       "      <th>1</th>\n",
       "      <td>B00B7Q28YC</td>\n",
       "      <td>74.99</td>\n",
       "    </tr>\n",
       "    <tr>\n",
       "      <th>2</th>\n",
       "      <td>B00CX49V38</td>\n",
       "      <td>111.00</td>\n",
       "    </tr>\n",
       "    <tr>\n",
       "      <th>3</th>\n",
       "      <td>B00G28RZGQ</td>\n",
       "      <td>19.99</td>\n",
       "    </tr>\n",
       "  </tbody>\n",
       "</table>\n",
       "</div>"
      ],
      "text/plain": [
       "   product.id   price\n",
       "0  B00AO85G8E    9.68\n",
       "1  B00B7Q28YC   74.99\n",
       "2  B00CX49V38  111.00\n",
       "3  B00G28RZGQ   19.99"
      ]
     },
     "execution_count": 47,
     "metadata": {},
     "output_type": "execute_result"
    }
   ],
   "source": [
    "filter_products_df(match)"
   ]
  },
  {
   "cell_type": "code",
   "execution_count": 28,
   "metadata": {},
   "outputs": [],
   "source": [
    "def filter_reviews(products):\n",
    "    df = pd.DataFrame({\"product.id\": [], \"rating\": [], \"review\": []})\n",
    "    f = open(\"D:/DUKE/01 COURSES/08 Mkt Intelligence/reviews.json\")\n",
    "    prods = set(products[\"product.id\"])\n",
    "    for line in f:\n",
    "        id = line.split(':')[2].split(',')[0].strip().strip('\"')\n",
    "        if id in prods:\n",
    "                review = decode(line.strip())\n",
    "                d = pd.DataFrame({\"product.id\": [review['asin']],\n",
    "                                  \"rating\": [review['overall']],\n",
    "                                  \"review\": [review['reviewText']]})\n",
    "                df = df.append(d, ignore_index=True)\n",
    "    return df"
   ]
  },
  {
   "cell_type": "code",
   "execution_count": 35,
   "metadata": {},
   "outputs": [
    {
     "data": {
      "text/html": [
       "<div>\n",
       "<style scoped>\n",
       "    .dataframe tbody tr th:only-of-type {\n",
       "        vertical-align: middle;\n",
       "    }\n",
       "\n",
       "    .dataframe tbody tr th {\n",
       "        vertical-align: top;\n",
       "    }\n",
       "\n",
       "    .dataframe thead th {\n",
       "        text-align: right;\n",
       "    }\n",
       "</style>\n",
       "<table border=\"1\" class=\"dataframe\">\n",
       "  <thead>\n",
       "    <tr style=\"text-align: right;\">\n",
       "      <th></th>\n",
       "      <th>product.id</th>\n",
       "      <th>rating</th>\n",
       "      <th>review</th>\n",
       "    </tr>\n",
       "  </thead>\n",
       "  <tbody>\n",
       "    <tr>\n",
       "      <th>0</th>\n",
       "      <td>B00AO85G8E</td>\n",
       "      <td>5.0</td>\n",
       "      <td>I needed a replacement tip.  This tip seems to...</td>\n",
       "    </tr>\n",
       "    <tr>\n",
       "      <th>1</th>\n",
       "      <td>B00AO85G8E</td>\n",
       "      <td>4.0</td>\n",
       "      <td>I ordered the tips for the wrong stylus when I...</td>\n",
       "    </tr>\n",
       "    <tr>\n",
       "      <th>2</th>\n",
       "      <td>B00AO85G8E</td>\n",
       "      <td>3.0</td>\n",
       "      <td>What's with the freakin thickness on this thin...</td>\n",
       "    </tr>\n",
       "    <tr>\n",
       "      <th>3</th>\n",
       "      <td>B00AO85G8E</td>\n",
       "      <td>1.0</td>\n",
       "      <td>This item only works on tablet iProducts newer...</td>\n",
       "    </tr>\n",
       "    <tr>\n",
       "      <th>4</th>\n",
       "      <td>B00AO85G8E</td>\n",
       "      <td>1.0</td>\n",
       "      <td>When I tried using the replacement tips they w...</td>\n",
       "    </tr>\n",
       "    <tr>\n",
       "      <th>5</th>\n",
       "      <td>B00AO85G8E</td>\n",
       "      <td>5.0</td>\n",
       "      <td>If you spent any time drawing and painting on ...</td>\n",
       "    </tr>\n",
       "    <tr>\n",
       "      <th>6</th>\n",
       "      <td>B00B7Q28YC</td>\n",
       "      <td>2.0</td>\n",
       "      <td>I was hoping for a clip that would securely lo...</td>\n",
       "    </tr>\n",
       "    <tr>\n",
       "      <th>7</th>\n",
       "      <td>B00B7Q28YC</td>\n",
       "      <td>1.0</td>\n",
       "      <td>Too thick to attach to the zagg keyboards. May...</td>\n",
       "    </tr>\n",
       "    <tr>\n",
       "      <th>8</th>\n",
       "      <td>B00B7Q28YC</td>\n",
       "      <td>5.0</td>\n",
       "      <td>I actually love the clip more than the stylus....</td>\n",
       "    </tr>\n",
       "    <tr>\n",
       "      <th>9</th>\n",
       "      <td>B00B7Q28YC</td>\n",
       "      <td>5.0</td>\n",
       "      <td>This is a simple tool that I bought to go with...</td>\n",
       "    </tr>\n",
       "    <tr>\n",
       "      <th>10</th>\n",
       "      <td>B00B7Q28YC</td>\n",
       "      <td>2.0</td>\n",
       "      <td>After the first broke, I ordered another, thin...</td>\n",
       "    </tr>\n",
       "    <tr>\n",
       "      <th>11</th>\n",
       "      <td>B00B7Q28YC</td>\n",
       "      <td>3.0</td>\n",
       "      <td>I do like the idea here and I definitely use t...</td>\n",
       "    </tr>\n",
       "    <tr>\n",
       "      <th>12</th>\n",
       "      <td>B00B7Q28YC</td>\n",
       "      <td>1.0</td>\n",
       "      <td>8 bucks and the thing broke within a month of ...</td>\n",
       "    </tr>\n",
       "    <tr>\n",
       "      <th>13</th>\n",
       "      <td>B00B7Q28YC</td>\n",
       "      <td>2.0</td>\n",
       "      <td>Initially apealing, but after only 2 weeks the...</td>\n",
       "    </tr>\n",
       "    <tr>\n",
       "      <th>14</th>\n",
       "      <td>B00B7Q28YC</td>\n",
       "      <td>1.0</td>\n",
       "      <td>If your case is very thin this product works g...</td>\n",
       "    </tr>\n",
       "    <tr>\n",
       "      <th>15</th>\n",
       "      <td>B00CX49V38</td>\n",
       "      <td>1.0</td>\n",
       "      <td>This pen promises to work with new ipad..........</td>\n",
       "    </tr>\n",
       "    <tr>\n",
       "      <th>16</th>\n",
       "      <td>B00G28RZGQ</td>\n",
       "      <td>5.0</td>\n",
       "      <td>Very reliable and comparable with all my iPad ...</td>\n",
       "    </tr>\n",
       "    <tr>\n",
       "      <th>17</th>\n",
       "      <td>B00G28RZGQ</td>\n",
       "      <td>5.0</td>\n",
       "      <td>I use this with Brushes and it seems to be bet...</td>\n",
       "    </tr>\n",
       "  </tbody>\n",
       "</table>\n",
       "</div>"
      ],
      "text/plain": [
       "    product.id  rating                                             review\n",
       "0   B00AO85G8E     5.0  I needed a replacement tip.  This tip seems to...\n",
       "1   B00AO85G8E     4.0  I ordered the tips for the wrong stylus when I...\n",
       "2   B00AO85G8E     3.0  What's with the freakin thickness on this thin...\n",
       "3   B00AO85G8E     1.0  This item only works on tablet iProducts newer...\n",
       "4   B00AO85G8E     1.0  When I tried using the replacement tips they w...\n",
       "5   B00AO85G8E     5.0  If you spent any time drawing and painting on ...\n",
       "6   B00B7Q28YC     2.0  I was hoping for a clip that would securely lo...\n",
       "7   B00B7Q28YC     1.0  Too thick to attach to the zagg keyboards. May...\n",
       "8   B00B7Q28YC     5.0  I actually love the clip more than the stylus....\n",
       "9   B00B7Q28YC     5.0  This is a simple tool that I bought to go with...\n",
       "10  B00B7Q28YC     2.0  After the first broke, I ordered another, thin...\n",
       "11  B00B7Q28YC     3.0  I do like the idea here and I definitely use t...\n",
       "12  B00B7Q28YC     1.0  8 bucks and the thing broke within a month of ...\n",
       "13  B00B7Q28YC     2.0  Initially apealing, but after only 2 weeks the...\n",
       "14  B00B7Q28YC     1.0  If your case is very thin this product works g...\n",
       "15  B00CX49V38     1.0  This pen promises to work with new ipad..........\n",
       "16  B00G28RZGQ     5.0  Very reliable and comparable with all my iPad ...\n",
       "17  B00G28RZGQ     5.0  I use this with Brushes and it seems to be bet..."
      ]
     },
     "execution_count": 35,
     "metadata": {},
     "output_type": "execute_result"
    }
   ],
   "source": [
    "reviews = filter_reviews(products)\n",
    "reviews"
   ]
  }
 ],
 "metadata": {
  "kernelspec": {
   "display_name": "Python 3",
   "language": "python",
   "name": "python3"
  },
  "language_info": {
   "codemirror_mode": {
    "name": "ipython",
    "version": 3
   },
   "file_extension": ".py",
   "mimetype": "text/x-python",
   "name": "python",
   "nbconvert_exporter": "python",
   "pygments_lexer": "ipython3",
   "version": "3.7.1"
  }
 },
 "nbformat": 4,
 "nbformat_minor": 2
}
